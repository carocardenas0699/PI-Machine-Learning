{
 "cells": [
  {
   "cell_type": "code",
   "execution_count": 1,
   "metadata": {},
   "outputs": [],
   "source": [
    "import pyarrow as pa\n",
    "import pyarrow.parquet as pq\n",
    "import pandas as pd\n",
    "import numpy as np\n",
    "from sklearn.metrics.pairwise import cosine_similarity"
   ]
  },
  {
   "cell_type": "markdown",
   "metadata": {},
   "source": [
    "### def developer(desarrolladora : str)"
   ]
  },
  {
   "cell_type": "markdown",
   "metadata": {},
   "source": [
    "Cantidad de items y porcentaje de contenido Free por año según empresa desarrolladora. <br><br>\n",
    "Ejemplo de retorno: <br>\n",
    "| Año   | Cantidad de items | Contenido Free |\n",
    "| ----- | ----------------- | -------------- |\n",
    "| 2023  | 50                | 27%            |\n",
    "| 2022  | 45                | 25%            |\n",
    "<br>"
   ]
  },
  {
   "cell_type": "code",
   "execution_count": 5,
   "metadata": {},
   "outputs": [],
   "source": [
    "def developer (desarrollador):\n",
    "    \n",
    "    # Importa el archivo \n",
    "    df_dev = pd.read_parquet('Archivos API/def_developer.parquet')\n",
    "        # Columnas:\n",
    "            # developer\n",
    "            # item_id\n",
    "            # release_year\n",
    "            # price\n",
    "\n",
    "    if desarrollador in df_dev['developer'].values:\n",
    "\n",
    "        # Se crea un DataFrame que contiene solo los registros para el desarrollador especificado\n",
    "        dev = df_dev[df_dev['developer']==desarrollador]\n",
    "\n",
    "        # Se crean las columnas 'free' y 'tot' para hacer el conteo de items\n",
    "        dev['free']=dev['price'].apply(lambda x: 1 if x == 0 else 0) # 1 para cada item Free\n",
    "        dev['tot']=1 # 1 para todos los items\n",
    "\n",
    "        # Se agrupan los registros por desarrollador y año. Se suma la cantidad de items Free y se cuentan los Total\n",
    "        dev = dev.groupby(['developer','release_year']).agg({'free': 'sum','tot':'count'}).reset_index()\n",
    "        \n",
    "        # Se calcula el porcentaje de contenido Free\n",
    "        dev['percentage']=((dev['free']/dev['tot'])*100).round(2)\n",
    "\n",
    "        # Se borran las columnas auxiliares y se cambian los nombres de las que contienen el resultado\n",
    "        dev.drop(columns=['developer','free'],inplace=True)\n",
    "        dev.rename(columns={'release_year':'año','tot':'Cantidad de items','percentage':'Contenido Free (%)'},inplace=True)\n",
    "        \n",
    "        return dev # Se devuelve el DataFrame\n",
    "    \n",
    "    else:\n",
    "\n",
    "        return f'El desarrollador {desarrollador} no se encuentra en los registros'"
   ]
  },
  {
   "cell_type": "code",
   "execution_count": 6,
   "metadata": {},
   "outputs": [
    {
     "name": "stderr",
     "output_type": "stream",
     "text": [
      "C:\\Users\\Carolina\\AppData\\Local\\Temp\\ipykernel_27636\\2234134817.py:17: SettingWithCopyWarning: \n",
      "A value is trying to be set on a copy of a slice from a DataFrame.\n",
      "Try using .loc[row_indexer,col_indexer] = value instead\n",
      "\n",
      "See the caveats in the documentation: https://pandas.pydata.org/pandas-docs/stable/user_guide/indexing.html#returning-a-view-versus-a-copy\n",
      "  dev['free']=dev['price'].apply(lambda x: 1 if x == 0 else 0) # 1 para cada item Free\n",
      "C:\\Users\\Carolina\\AppData\\Local\\Temp\\ipykernel_27636\\2234134817.py:18: SettingWithCopyWarning: \n",
      "A value is trying to be set on a copy of a slice from a DataFrame.\n",
      "Try using .loc[row_indexer,col_indexer] = value instead\n",
      "\n",
      "See the caveats in the documentation: https://pandas.pydata.org/pandas-docs/stable/user_guide/indexing.html#returning-a-view-versus-a-copy\n",
      "  dev['tot']=1 # 1 para todos los items\n"
     ]
    },
    {
     "data": {
      "text/html": [
       "<div>\n",
       "<style scoped>\n",
       "    .dataframe tbody tr th:only-of-type {\n",
       "        vertical-align: middle;\n",
       "    }\n",
       "\n",
       "    .dataframe tbody tr th {\n",
       "        vertical-align: top;\n",
       "    }\n",
       "\n",
       "    .dataframe thead th {\n",
       "        text-align: right;\n",
       "    }\n",
       "</style>\n",
       "<table border=\"1\" class=\"dataframe\">\n",
       "  <thead>\n",
       "    <tr style=\"text-align: right;\">\n",
       "      <th></th>\n",
       "      <th>año</th>\n",
       "      <th>Cantidad de items</th>\n",
       "      <th>Contenido Free (%)</th>\n",
       "    </tr>\n",
       "  </thead>\n",
       "  <tbody>\n",
       "    <tr>\n",
       "      <th>0</th>\n",
       "      <td>2014.0</td>\n",
       "      <td>2</td>\n",
       "      <td>0.00</td>\n",
       "    </tr>\n",
       "    <tr>\n",
       "      <th>1</th>\n",
       "      <td>2015.0</td>\n",
       "      <td>2</td>\n",
       "      <td>0.00</td>\n",
       "    </tr>\n",
       "    <tr>\n",
       "      <th>2</th>\n",
       "      <td>2016.0</td>\n",
       "      <td>41</td>\n",
       "      <td>9.76</td>\n",
       "    </tr>\n",
       "    <tr>\n",
       "      <th>3</th>\n",
       "      <td>2017.0</td>\n",
       "      <td>33</td>\n",
       "      <td>0.00</td>\n",
       "    </tr>\n",
       "  </tbody>\n",
       "</table>\n",
       "</div>"
      ],
      "text/plain": [
       "      año  Cantidad de items  Contenido Free (%)\n",
       "0  2014.0                  2                0.00\n",
       "1  2015.0                  2                0.00\n",
       "2  2016.0                 41                9.76\n",
       "3  2017.0                 33                0.00"
      ]
     },
     "execution_count": 6,
     "metadata": {},
     "output_type": "execute_result"
    }
   ],
   "source": [
    "developer('DL Softworks')"
   ]
  },
  {
   "cell_type": "code",
   "execution_count": 7,
   "metadata": {},
   "outputs": [
    {
     "data": {
      "text/plain": [
       "'El desarrollador Ashes no se encuentra en los registros'"
      ]
     },
     "execution_count": 7,
     "metadata": {},
     "output_type": "execute_result"
    }
   ],
   "source": [
    "developer('Ashes')"
   ]
  },
  {
   "cell_type": "markdown",
   "metadata": {},
   "source": [
    "### def userdata( User_id : str )"
   ]
  },
  {
   "cell_type": "markdown",
   "metadata": {},
   "source": [
    "Debe devolver cantidad de dinero gastado por el usuario, el porcentaje de recomendación en base a reviews.recommend y cantidad de items. <br><br>\n",
    "Ejemplo de retorno: <br>\n",
    "{\"Usuario X\" : us213ndjss09sdf, \"Dinero gastado\": 200 USD, \"% de recomendación\": 20%, \"cantidad de items\": 5}"
   ]
  },
  {
   "cell_type": "code",
   "execution_count": 8,
   "metadata": {},
   "outputs": [],
   "source": [
    "def userdata (user_id):\n",
    "\n",
    "    # Importa el archivo \n",
    "    df_user = pd.read_parquet('Archivos API/def_userdata.parquet')\n",
    "        # Columnas:\n",
    "            # user_id\n",
    "            # item_id\n",
    "            # recommend\n",
    "            # price\n",
    "\n",
    "    if user_id in df_user['user_id'].values:\n",
    "\n",
    "        # Se crea un DataFrame que contiene solo los registros para el usuario especificado\n",
    "        u_data = df_user[df_user['user_id']==user_id]\n",
    "\n",
    "        #Se calculan directamente los valores solicitados y se devuelven en el formato solicitado\n",
    "        return {\"User\":user_id,\n",
    "                \"Dinero gastado\":float(u_data['price'].sum()),\n",
    "                \"% Recomendacion\":(u_data[u_data['recommend']].shape[0]/u_data.shape[0])*100,\n",
    "                \"Cantidad de items\":u_data.shape[0]}\n",
    "    \n",
    "    else:\n",
    "\n",
    "        return f'El usuario {user_id} no se encuentra en los registros'\n",
    "\n"
   ]
  },
  {
   "cell_type": "code",
   "execution_count": 9,
   "metadata": {},
   "outputs": [
    {
     "data": {
      "text/plain": [
       "{'User': '76561198070565427',\n",
       " 'Dinero gastado': 24.979999999999997,\n",
       " '% Recomendacion': 80.0,\n",
       " 'Cantidad de items': 5}"
      ]
     },
     "execution_count": 9,
     "metadata": {},
     "output_type": "execute_result"
    }
   ],
   "source": [
    "userdata('76561198070565427')"
   ]
  },
  {
   "cell_type": "code",
   "execution_count": 10,
   "metadata": {},
   "outputs": [
    {
     "data": {
      "text/plain": [
       "'El usuario uno no se encuentra en los registros'"
      ]
     },
     "execution_count": 10,
     "metadata": {},
     "output_type": "execute_result"
    }
   ],
   "source": [
    "userdata('uno')"
   ]
  },
  {
   "cell_type": "markdown",
   "metadata": {},
   "source": [
    "### def UserForGenre( genero : str )"
   ]
  },
  {
   "cell_type": "markdown",
   "metadata": {},
   "source": [
    "Debe devolver el usuario que acumula más horas jugadas para el género dado y una lista de la acumulación de horas jugadas por año de lanzamiento. <br><br>\n",
    "Ejemplo de retorno:<br>\n",
    "{\"Usuario con más horas jugadas para Género X\" : us213ndjss09sdf, \"Horas jugadas\":[{Año: 2013, Horas: 203}, {Año: 2012, Horas: 100}, {Año: 2011, Horas: 23}]}\n",
    "<br><br>\n",
    "Columnas necesarias:\n",
    "- user_id (items)\n",
    "- playtime (items)\n",
    "- item_id (items, games)\n",
    "- genres (games)\n",
    "- release_year (games)"
   ]
  },
  {
   "cell_type": "code",
   "execution_count": 11,
   "metadata": {},
   "outputs": [],
   "source": [
    "def UserForGenre (genero):\n",
    "\n",
    "    # Importa el archivo\n",
    "    df_user_gen = pd.read_parquet('Archivos API/def_userforgenre.parquet')\n",
    "        # Columnas:\n",
    "            # user_id\n",
    "            # item_id\n",
    "            # playtime\n",
    "            # genres\n",
    "            # release_year\n",
    "\n",
    "    # Se crea un DataFrame con los registros que contienen en su lista de generos el genero ingresado por parametro\n",
    "    df_gen = df_user_gen[df_user_gen['genres'].apply(lambda x: genero in x)]\n",
    "\n",
    "    # Se agrupan los registros por usuario y se suman los tiempos de juego\n",
    "    tot = df_gen.groupby(['user_id']).agg({'playtime': 'sum'}).reset_index()\n",
    "\n",
    "    if tot.size > 0:\n",
    "        # Se ordenan los tiempos de juego y se toma el usuario correspondiente al mayor valor\n",
    "        u_most = tot.sort_values(by='playtime',ascending=False).iloc[0,0]\n",
    "        \n",
    "        # Se filtra el DataFrame que contenia solo los registros del genero indicado para el usuario encontrado\n",
    "        df_user = df_gen[df_gen['user_id']==u_most]\n",
    "\n",
    "        # Se agrupan los resultados por año\n",
    "        df_user = df_user.groupby(['release_year']).agg({'playtime': 'sum'}).reset_index()\n",
    "        \n",
    "        # Se renombran las columnas y se crea el diccionario para devolver\n",
    "        df_user.rename(columns={'release_year':'Año','playtime':'Horas'},inplace=True)\n",
    "        res_dict = df_user.to_dict(orient='records')\n",
    "\n",
    "        return {f\"Usuario con más horas jugadas para Genero '{genero}'\" : u_most, \n",
    "                \"Horas jugadas\":res_dict}\n",
    "    \n",
    "    else:\n",
    "\n",
    "        return f\"No hay registros de horas de juego para Genero '{genero}'\"\n",
    "    \n",
    "    \n"
   ]
  },
  {
   "cell_type": "code",
   "execution_count": 12,
   "metadata": {},
   "outputs": [
    {
     "data": {
      "text/plain": [
       "{\"Usuario con más horas jugadas para Genero 'Photo Editing'\": 'Sky_Wolf',\n",
       " 'Horas jugadas': [{'Año': 2014.0, 'Horas': 364.75}]}"
      ]
     },
     "execution_count": 12,
     "metadata": {},
     "output_type": "execute_result"
    }
   ],
   "source": [
    "UserForGenre('Photo Editing')"
   ]
  },
  {
   "cell_type": "code",
   "execution_count": 13,
   "metadata": {},
   "outputs": [
    {
     "data": {
      "text/plain": [
       "{\"Usuario con más horas jugadas para Genero 'Adventure'\": 'REBAS_AS_F-T',\n",
       " 'Horas jugadas': [{'Año': 2002.0, 'Horas': 0.0},\n",
       "  {'Año': 2003.0, 'Horas': 31.05},\n",
       "  {'Año': 2005.0, 'Horas': 18.55},\n",
       "  {'Año': 2006.0, 'Horas': 0.0},\n",
       "  {'Año': 2007.0, 'Horas': 2.683333333333333},\n",
       "  {'Año': 2008.0, 'Horas': 40.88333333333333},\n",
       "  {'Año': 2009.0, 'Horas': 448.40000000000003},\n",
       "  {'Año': 2010.0, 'Horas': 322.43333333333334},\n",
       "  {'Año': 2011.0, 'Horas': 1004.7166666666667},\n",
       "  {'Año': 2012.0, 'Horas': 2408.3},\n",
       "  {'Año': 2013.0, 'Horas': 4221.866666666667},\n",
       "  {'Año': 2014.0, 'Horas': 3182.65},\n",
       "  {'Año': 2015.0, 'Horas': 10992.5},\n",
       "  {'Año': 2016.0, 'Horas': 13171.55},\n",
       "  {'Año': 2017.0, 'Horas': 549.1166666666667}]}"
      ]
     },
     "execution_count": 13,
     "metadata": {},
     "output_type": "execute_result"
    }
   ],
   "source": [
    "UserForGenre('Adventure')"
   ]
  },
  {
   "cell_type": "code",
   "execution_count": 15,
   "metadata": {},
   "outputs": [
    {
     "data": {
      "text/plain": [
       "\"No hay registros de horas de juego para Genero 'Adv'\""
      ]
     },
     "execution_count": 15,
     "metadata": {},
     "output_type": "execute_result"
    }
   ],
   "source": [
    "UserForGenre('Adv')"
   ]
  },
  {
   "cell_type": "markdown",
   "metadata": {},
   "source": [
    "### def best_developer_year( año : int )"
   ]
  },
  {
   "cell_type": "markdown",
   "metadata": {},
   "source": [
    "Devuelve el top 3 de desarrolladores con juegos MÁS recomendados por usuarios para el año dado. (reviews.recommend = True y comentarios positivos) <br><br>\n",
    "Ejemplo de retorno: <br>\n",
    "[{\"Puesto 1\" : X}, {\"Puesto 2\" : Y},{\"Puesto 3\" : Z}]\n",
    "<br><br>"
   ]
  },
  {
   "cell_type": "code",
   "execution_count": 16,
   "metadata": {},
   "outputs": [],
   "source": [
    "def best_developer_year (anio):\n",
    "\n",
    "    # Importa el archivo\n",
    "    df_best_dev = pd.read_parquet('Archivos API/def_best_dev.parquet')\n",
    "        # Columnas:\n",
    "            # developer\n",
    "            # item_id\n",
    "            # release_year\n",
    "            # recommend\n",
    "            # sentiment_analysis\n",
    "\n",
    "    # Se crea un DataFrame con los registros que corresponden al año ingresado por parametro y que son recomendados\n",
    "    # y tienen un analisis de sentimiento positivo\n",
    "    df_best = df_best_dev[(df_best_dev['recommend'])&(df_best_dev['sentiment_analysis']==2)&(df_best_dev['release_year']==anio)]\n",
    "\n",
    "    if anio in  df_best_dev['release_year'].values:\n",
    "\n",
    "        # Se ordenan los developer segun su frecuencia en orden descendente y se toman los 3 primeros\n",
    "        p1 = df_best['developer'].value_counts().index[0]\n",
    "        tam = df_best['developer'].value_counts().size\n",
    "        if  tam > 1:\n",
    "            p2 = df_best['developer'].value_counts().index[1]\n",
    "            if tam > 2:\n",
    "                p3 = df_best['developer'].value_counts().index[2]\n",
    "            else:\n",
    "                p3 = None\n",
    "        else:\n",
    "            p2 = None\n",
    "            p3 = None\n",
    "        \n",
    "        return [{\"Puesto 1\":p1,\"Puesto 2\":p2,\"Puesto 3\":p3}] # Se devuelven los datos en el formato solicitado\n",
    "\n",
    "    else:\n",
    "\n",
    "        return f\"No se encontraron juegos lanzados en {anio}\"\n"
   ]
  },
  {
   "cell_type": "code",
   "execution_count": 17,
   "metadata": {},
   "outputs": [
    {
     "data": {
      "text/plain": [
       "[{'Puesto 1': 'Valve', 'Puesto 2': None, 'Puesto 3': None}]"
      ]
     },
     "execution_count": 17,
     "metadata": {},
     "output_type": "execute_result"
    }
   ],
   "source": [
    "best_developer_year(2000)"
   ]
  },
  {
   "cell_type": "code",
   "execution_count": 18,
   "metadata": {},
   "outputs": [
    {
     "data": {
      "text/plain": [
       "[{'Puesto 1': 'Valve',\n",
       "  'Puesto 2': 'Gearbox Software,Aspyr (Mac &amp; Linux)',\n",
       "  'Puesto 3': 'Daybreak Game Company'}]"
      ]
     },
     "execution_count": 18,
     "metadata": {},
     "output_type": "execute_result"
    }
   ],
   "source": [
    "best_developer_year(2012)"
   ]
  },
  {
   "cell_type": "code",
   "execution_count": 19,
   "metadata": {},
   "outputs": [
    {
     "data": {
      "text/plain": [
       "'No se encontraron juegos lanzados en 503'"
      ]
     },
     "execution_count": 19,
     "metadata": {},
     "output_type": "execute_result"
    }
   ],
   "source": [
    "best_developer_year(503)"
   ]
  },
  {
   "cell_type": "markdown",
   "metadata": {},
   "source": [
    "### def developer_reviews_analysis( desarrolladora : str )"
   ]
  },
  {
   "cell_type": "markdown",
   "metadata": {},
   "source": [
    "Según el desarrollador, se devuelve un diccionario con el nombre del desarrollador como llave y una lista con la cantidad total de registros de reseñas de usuarios que se encuentren categorizados con un análisis de sentimiento como valor positivo o negativo. <br><br>\n",
    "Ejemplo de retorno: <br>\n",
    "{'Valve' : [Negative = 182, Positive = 278]}\n",
    "<br><br>"
   ]
  },
  {
   "cell_type": "code",
   "execution_count": 20,
   "metadata": {},
   "outputs": [],
   "source": [
    "def developer_reviews_analysis (desarrolladora):\n",
    "\n",
    "    # Importa el archivo\n",
    "    df_dev_rev = pd.read_parquet('Archivos API/def_dev_rev.parquet')\n",
    "        # Columnas:\n",
    "            # developer\n",
    "            # item_id\n",
    "            # sentiment_analysis\n",
    "\n",
    "    if desarrolladora in df_dev_rev['developer'].values:\n",
    "\n",
    "        # Se crea un DataFrame que contiene solo los registros para la desarrolladora especificada\n",
    "        df_dev = df_dev_rev[df_dev_rev['developer']==desarrolladora]\n",
    "\n",
    "        #Se calculan directamente los valores solicitados y se devuelven en el formato solicitado\n",
    "        return {f\"{desarrolladora}\":[f'Negative = {df_dev[df_dev['sentiment_analysis']==0].shape[0]}',\n",
    "                                    f'Positive = {df_dev[df_dev['sentiment_analysis']==2].shape[0]}']}\n",
    "\n",
    "    else:\n",
    "\n",
    "        return f'El desarrollador {desarrolladora} no se encuentra en los registros'\n"
   ]
  },
  {
   "cell_type": "code",
   "execution_count": 21,
   "metadata": {},
   "outputs": [
    {
     "data": {
      "text/plain": [
       "{'Valve': ['Negative = 454', 'Positive = 2537']}"
      ]
     },
     "execution_count": 21,
     "metadata": {},
     "output_type": "execute_result"
    }
   ],
   "source": [
    "developer_reviews_analysis('Valve')"
   ]
  },
  {
   "cell_type": "code",
   "execution_count": 22,
   "metadata": {},
   "outputs": [
    {
     "data": {
      "text/plain": [
       "{'Daybreak Game Company': ['Negative = 16', 'Positive = 100']}"
      ]
     },
     "execution_count": 22,
     "metadata": {},
     "output_type": "execute_result"
    }
   ],
   "source": [
    "developer_reviews_analysis('Daybreak Game Company')"
   ]
  },
  {
   "cell_type": "code",
   "execution_count": 23,
   "metadata": {},
   "outputs": [
    {
     "data": {
      "text/plain": [
       "'El desarrollador AVA no se encuentra en los registros'"
      ]
     },
     "execution_count": 23,
     "metadata": {},
     "output_type": "execute_result"
    }
   ],
   "source": [
    "developer_reviews_analysis('AVA')"
   ]
  },
  {
   "cell_type": "markdown",
   "metadata": {},
   "source": [
    "## def recomendacion_juego (id_producto : int)"
   ]
  },
  {
   "cell_type": "markdown",
   "metadata": {},
   "source": [
    "Ingresando el id de producto, deberíamos recibir una lista con 5 juegos recomendados similares al ingresado."
   ]
  },
  {
   "cell_type": "code",
   "execution_count": 24,
   "metadata": {},
   "outputs": [],
   "source": [
    "def recomendacion_juego (id_producto):\n",
    "\n",
    "    games_feat = pd.read_parquet('Archivos API/def_recom.parquet')\n",
    "\n",
    "    if id_producto in games_feat['item_id'].values:\n",
    "        \n",
    "        matrix = cosine_similarity(games_feat.drop(columns=['item_name','item_id']))\n",
    "\n",
    "        ind = games_feat.index[games_feat['item_id']==id_producto]\n",
    "\n",
    "        sim = list(enumerate(matrix[ind].flatten()))\n",
    "        sim = sorted(sim, key=lambda x: x[1], reverse=True)\n",
    "\n",
    "        recom_ind = [i for i, puntaje in sim[1:6]]\n",
    "        recom_nom = games_feat['item_name'].iloc[recom_ind].tolist()\n",
    "\n",
    "        l = dict(zip(recom_nom, recom_ind))\n",
    "        nom = games_feat.iloc[ind,1].values\n",
    "        \n",
    "        return f\"Juegos similares a {nom} (id {id_producto}): {l}\"\n",
    "    \n",
    "    else:\n",
    "\n",
    "        return f\"El juego {id_producto} no esta en la base de datos\""
   ]
  },
  {
   "cell_type": "code",
   "execution_count": 25,
   "metadata": {},
   "outputs": [
    {
     "data": {
      "text/plain": [
       "'Juegos similares a [\\'The Aquatic Adventure of the Last Human\\'] (id 401360): {\\'Druid\\': 19540, \"Cally\\'s Caves 3\": 24478, \\'Shovel Knight: Specter of Torment\\': 18299, \\'TY the Tasmanian Tiger 4\\': 4408, \\'Full Bore\\': 2128}'"
      ]
     },
     "execution_count": 25,
     "metadata": {},
     "output_type": "execute_result"
    }
   ],
   "source": [
    "recomendacion_juego(401360)"
   ]
  },
  {
   "cell_type": "code",
   "execution_count": 15,
   "metadata": {},
   "outputs": [
    {
     "data": {
      "text/plain": [
       "\"Juegos similares a ['Log Challenge'] (id 773570): {'Fall Fear Fly Redemption': 14903, 'Wingless': 16188, 'Dream UniVRse': 8974, 'Super Pixel Smash': 8554, 'VRQB': 11402}\""
      ]
     },
     "execution_count": 15,
     "metadata": {},
     "output_type": "execute_result"
    }
   ],
   "source": [
    "recomendacion_juego(773570)"
   ]
  },
  {
   "cell_type": "code",
   "execution_count": 26,
   "metadata": {},
   "outputs": [
    {
     "data": {
      "text/plain": [
       "'El juego 45 no esta en la base de datos'"
      ]
     },
     "execution_count": 26,
     "metadata": {},
     "output_type": "execute_result"
    }
   ],
   "source": [
    "recomendacion_juego(45)"
   ]
  },
  {
   "cell_type": "code",
   "execution_count": null,
   "metadata": {},
   "outputs": [],
   "source": [
    "'''\n",
    "/developer/DL Softworks\n",
    "/userdata/76561198070565427\n",
    "/UserForGenre/Adventure\n",
    "/best_developer_year/2012\n",
    "/developer_reviews_analysis/Daybreak Game Company\n",
    "/recomendacion_juego/401360\n",
    "'''"
   ]
  }
 ],
 "metadata": {
  "kernelspec": {
   "display_name": "venv",
   "language": "python",
   "name": "python3"
  },
  "language_info": {
   "codemirror_mode": {
    "name": "ipython",
    "version": 3
   },
   "file_extension": ".py",
   "mimetype": "text/x-python",
   "name": "python",
   "nbconvert_exporter": "python",
   "pygments_lexer": "ipython3",
   "version": "3.12.4"
  }
 },
 "nbformat": 4,
 "nbformat_minor": 2
}
