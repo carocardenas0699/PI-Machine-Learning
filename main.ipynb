{
 "cells": [
  {
   "cell_type": "code",
   "execution_count": 15,
   "metadata": {},
   "outputs": [],
   "source": [
    "import pyarrow as pa\n",
    "import pyarrow.parquet as pq\n",
    "import pandas as pd\n",
    "import numpy as np"
   ]
  },
  {
   "cell_type": "markdown",
   "metadata": {},
   "source": [
    "### def developer(desarrolladora : str)"
   ]
  },
  {
   "cell_type": "markdown",
   "metadata": {},
   "source": [
    "Cantidad de items y porcentaje de contenido Free por año según empresa desarrolladora. <br><br>\n",
    "Ejemplo de retorno: <br>\n",
    "| Año   | Cantidad de items | Contenido Free |\n",
    "| ----- | ----------------- | -------------- |\n",
    "| 2023  | 50                | 27%            |\n",
    "| 2022  | 45                | 25%            |\n",
    "<br>"
   ]
  },
  {
   "cell_type": "code",
   "execution_count": 16,
   "metadata": {},
   "outputs": [],
   "source": [
    "def developer (desarrollador):\n",
    "    \n",
    "    # Importa el archivo \n",
    "    df_dev = pd.read_parquet('Archivos API/def_developer.parquet')\n",
    "        # Columnas:\n",
    "            # developer\n",
    "            # item_id\n",
    "            # release_year\n",
    "            # price\n",
    "\n",
    "    # Se crea un DataFrame que contiene solo los registros para el desarrollador especificado\n",
    "    dev = df_dev[df_dev['developer']==desarrollador]\n",
    "\n",
    "    # Se crean las columnas 'free' y 'tot' para hacer el conteo de items\n",
    "    dev['free']=dev['price'].apply(lambda x: 1 if x == 0 else 0) # 1 para cada item Free\n",
    "    dev['tot']=1 # 1 para todos los items\n",
    "\n",
    "    # Se agrupan los registros por desarrollador y año. Se suma la cantidad de items Free y se cuentan los Total\n",
    "    dev = dev.groupby(['developer','release_year']).agg({'free': 'sum','tot':'count'}).reset_index()\n",
    "    \n",
    "    # Se calcula el porcentaje de contenido Free\n",
    "    dev['percentage']=((dev['free']/dev['tot'])*100).round(2)\n",
    "\n",
    "    # Se borran las columnas auxiliares y se cambian los nombres de las que contienen el resultado\n",
    "    dev.drop(columns=['developer','free'],inplace=True)\n",
    "    dev.rename(columns={'release_year':'año','tot':'Cantidad de items','percentage':'Contenido Free (%)'},inplace=True)\n",
    "    \n",
    "    return dev # Se devuelve el DataFrame"
   ]
  },
  {
   "cell_type": "code",
   "execution_count": 17,
   "metadata": {},
   "outputs": [
    {
     "name": "stderr",
     "output_type": "stream",
     "text": [
      "C:\\Users\\Carolina\\AppData\\Local\\Temp\\ipykernel_61068\\715550048.py:15: SettingWithCopyWarning: \n",
      "A value is trying to be set on a copy of a slice from a DataFrame.\n",
      "Try using .loc[row_indexer,col_indexer] = value instead\n",
      "\n",
      "See the caveats in the documentation: https://pandas.pydata.org/pandas-docs/stable/user_guide/indexing.html#returning-a-view-versus-a-copy\n",
      "  dev['free']=dev['price'].apply(lambda x: 1 if x == 0 else 0) # 1 para cada item Free\n",
      "C:\\Users\\Carolina\\AppData\\Local\\Temp\\ipykernel_61068\\715550048.py:16: SettingWithCopyWarning: \n",
      "A value is trying to be set on a copy of a slice from a DataFrame.\n",
      "Try using .loc[row_indexer,col_indexer] = value instead\n",
      "\n",
      "See the caveats in the documentation: https://pandas.pydata.org/pandas-docs/stable/user_guide/indexing.html#returning-a-view-versus-a-copy\n",
      "  dev['tot']=1 # 1 para todos los items\n"
     ]
    },
    {
     "data": {
      "text/html": [
       "<div>\n",
       "<style scoped>\n",
       "    .dataframe tbody tr th:only-of-type {\n",
       "        vertical-align: middle;\n",
       "    }\n",
       "\n",
       "    .dataframe tbody tr th {\n",
       "        vertical-align: top;\n",
       "    }\n",
       "\n",
       "    .dataframe thead th {\n",
       "        text-align: right;\n",
       "    }\n",
       "</style>\n",
       "<table border=\"1\" class=\"dataframe\">\n",
       "  <thead>\n",
       "    <tr style=\"text-align: right;\">\n",
       "      <th></th>\n",
       "      <th>año</th>\n",
       "      <th>Cantidad de items</th>\n",
       "      <th>Contenido Free (%)</th>\n",
       "    </tr>\n",
       "  </thead>\n",
       "  <tbody>\n",
       "    <tr>\n",
       "      <th>0</th>\n",
       "      <td>2014.0</td>\n",
       "      <td>2</td>\n",
       "      <td>0.00</td>\n",
       "    </tr>\n",
       "    <tr>\n",
       "      <th>1</th>\n",
       "      <td>2015.0</td>\n",
       "      <td>2</td>\n",
       "      <td>0.00</td>\n",
       "    </tr>\n",
       "    <tr>\n",
       "      <th>2</th>\n",
       "      <td>2016.0</td>\n",
       "      <td>41</td>\n",
       "      <td>9.76</td>\n",
       "    </tr>\n",
       "    <tr>\n",
       "      <th>3</th>\n",
       "      <td>2017.0</td>\n",
       "      <td>33</td>\n",
       "      <td>0.00</td>\n",
       "    </tr>\n",
       "  </tbody>\n",
       "</table>\n",
       "</div>"
      ],
      "text/plain": [
       "      año  Cantidad de items  Contenido Free (%)\n",
       "0  2014.0                  2                0.00\n",
       "1  2015.0                  2                0.00\n",
       "2  2016.0                 41                9.76\n",
       "3  2017.0                 33                0.00"
      ]
     },
     "execution_count": 17,
     "metadata": {},
     "output_type": "execute_result"
    }
   ],
   "source": [
    "developer('DL Softworks')"
   ]
  },
  {
   "cell_type": "markdown",
   "metadata": {},
   "source": [
    "### def userdata( User_id : str )"
   ]
  },
  {
   "cell_type": "markdown",
   "metadata": {},
   "source": [
    "Debe devolver cantidad de dinero gastado por el usuario, el porcentaje de recomendación en base a reviews.recommend y cantidad de items. <br><br>\n",
    "Ejemplo de retorno: <br>\n",
    "{\"Usuario X\" : us213ndjss09sdf, \"Dinero gastado\": 200 USD, \"% de recomendación\": 20%, \"cantidad de items\": 5}"
   ]
  },
  {
   "cell_type": "code",
   "execution_count": 18,
   "metadata": {},
   "outputs": [],
   "source": [
    "def userdata (user_id):\n",
    "\n",
    "    # Importa el archivo \n",
    "    df_user = pd.read_parquet('Archivos API/def_userdata.parquet')\n",
    "        # Columnas:\n",
    "            # user_id\n",
    "            # item_id\n",
    "            # recommend\n",
    "            # price\n",
    "\n",
    "    # Se crea un DataFrame que contiene solo los registros para el usuario especificado\n",
    "    u_data = df_user[df_user['user_id']==user_id]\n",
    "\n",
    "    #Se calculan directamente los valores solicitados y se devuelven en el formato solicitado\n",
    "    return {\"User\":user_id,\n",
    "            \"Dinero gastado\":float(u_data['price'].sum()),\n",
    "            \"% Recomendacion\":(u_data[u_data['recommend']].shape[0]/u_data.shape[0])*100,\n",
    "            \"Cantidad de items\":u_data.shape[0]}"
   ]
  },
  {
   "cell_type": "code",
   "execution_count": 19,
   "metadata": {},
   "outputs": [
    {
     "data": {
      "text/plain": [
       "{'User': '76561198070565427',\n",
       " 'Dinero gastado': 24.979999999999997,\n",
       " '% Recomendacion': 80.0,\n",
       " 'Cantidad de items': 5}"
      ]
     },
     "execution_count": 19,
     "metadata": {},
     "output_type": "execute_result"
    }
   ],
   "source": [
    "userdata('76561198070565427')"
   ]
  },
  {
   "cell_type": "markdown",
   "metadata": {},
   "source": [
    "### def UserForGenre( genero : str )"
   ]
  },
  {
   "cell_type": "markdown",
   "metadata": {},
   "source": [
    "Debe devolver el usuario que acumula más horas jugadas para el género dado y una lista de la acumulación de horas jugadas por año de lanzamiento. <br><br>\n",
    "Ejemplo de retorno:<br>\n",
    "{\"Usuario con más horas jugadas para Género X\" : us213ndjss09sdf, \"Horas jugadas\":[{Año: 2013, Horas: 203}, {Año: 2012, Horas: 100}, {Año: 2011, Horas: 23}]}\n",
    "<br><br>\n",
    "Columnas necesarias:\n",
    "- user_id (items)\n",
    "- playtime (items)\n",
    "- item_id (items, games)\n",
    "- genres (games)\n",
    "- release_year (games)"
   ]
  },
  {
   "cell_type": "code",
   "execution_count": 20,
   "metadata": {},
   "outputs": [],
   "source": [
    "def UserForGenre (genero):\n",
    "\n",
    "    # Importa el archivo\n",
    "    df_user_gen = pd.read_parquet('Archivos API/def_userforgenre.parquet')\n",
    "        # Columnas:\n",
    "            # user_id\n",
    "            # item_id\n",
    "            # playtime\n",
    "            # genres\n",
    "            # release_year\n",
    "\n",
    "    # Se crea un DataFrame con los registros que contienen en su lista de generos el genero ingresado por parametro\n",
    "    df_gen = df_user_gen[df_user_gen['genres'].apply(lambda x: genero in x)]\n",
    "\n",
    "    # Se agrupan los registros por usuario y se suman los tiempos de juego\n",
    "    tot = df_gen.groupby(['user_id']).agg({'playtime': 'sum'}).reset_index()\n",
    "\n",
    "    # Se ordenan los tiempos de juego y se toma el usuario correspondiente al mayor valor\n",
    "    u_most = tot.sort_values(by='playtime',ascending=False).iloc[0,0]\n",
    "    \n",
    "    # Se filtra el DataFrame que contenia solo los registros del genero indicado para el usuario encontrado\n",
    "    df_user = df_gen[df_gen['user_id']==u_most]\n",
    "\n",
    "    # Se agrupan los resultados por año\n",
    "    df_user = df_user.groupby(['release_year']).agg({'playtime': 'sum'}).reset_index()\n",
    "    \n",
    "    # Se renombran las columnas y se crea el diccionario para devolver\n",
    "    df_user.rename(columns={'release_year':'Año','playtime':'Horas'},inplace=True)\n",
    "    res_dict = df_user.to_dict(orient='records')\n",
    "\n",
    "    return {f\"Usuario con más horas jugadas para Genero '{genero}'\" : u_most, \n",
    "            \"Horas jugadas\":res_dict} \n"
   ]
  },
  {
   "cell_type": "code",
   "execution_count": 21,
   "metadata": {},
   "outputs": [
    {
     "data": {
      "text/plain": [
       "{\"Usuario con más horas jugadas para Genero 'Action'\": 'Sp3ctre',\n",
       " 'Horas jugadas': [{'Año': 1993.0, 'Horas': 0.0},\n",
       "  {'Año': 1995.0, 'Horas': 3.6166666666666667},\n",
       "  {'Año': 1996.0, 'Horas': 0.0},\n",
       "  {'Año': 1998.0, 'Horas': 0.0},\n",
       "  {'Año': 1999.0, 'Horas': 0.7333333333333333},\n",
       "  {'Año': 2000.0, 'Horas': 1177.4},\n",
       "  {'Año': 2001.0, 'Horas': 0.21666666666666667},\n",
       "  {'Año': 2002.0, 'Horas': 3.966666666666667},\n",
       "  {'Año': 2003.0, 'Horas': 127.88333333333334},\n",
       "  {'Año': 2004.0, 'Horas': 2123.516666666667},\n",
       "  {'Año': 2005.0, 'Horas': 355.65},\n",
       "  {'Año': 2006.0, 'Horas': 14.933333333333334},\n",
       "  {'Año': 2007.0, 'Horas': 1879.7333333333333},\n",
       "  {'Año': 2008.0, 'Horas': 3.7333333333333334},\n",
       "  {'Año': 2009.0, 'Horas': 1805.4333333333336},\n",
       "  {'Año': 2010.0, 'Horas': 1301.3833333333334},\n",
       "  {'Año': 2011.0, 'Horas': 2581.6},\n",
       "  {'Año': 2012.0, 'Horas': 6304.933333333333},\n",
       "  {'Año': 2013.0, 'Horas': 2007.6833333333334},\n",
       "  {'Año': 2014.0, 'Horas': 2178.1833333333334},\n",
       "  {'Año': 2015.0, 'Horas': 5208.516666666666},\n",
       "  {'Año': 2016.0, 'Horas': 492.93333333333334},\n",
       "  {'Año': 2017.0, 'Horas': 722.1166666666667}]}"
      ]
     },
     "execution_count": 21,
     "metadata": {},
     "output_type": "execute_result"
    }
   ],
   "source": [
    "UserForGenre('Action')"
   ]
  },
  {
   "cell_type": "code",
   "execution_count": 22,
   "metadata": {},
   "outputs": [
    {
     "data": {
      "text/plain": [
       "{\"Usuario con más horas jugadas para Genero 'Adventure'\": 'REBAS_AS_F-T',\n",
       " 'Horas jugadas': [{'Año': 2002.0, 'Horas': 0.0},\n",
       "  {'Año': 2003.0, 'Horas': 31.05},\n",
       "  {'Año': 2005.0, 'Horas': 18.55},\n",
       "  {'Año': 2006.0, 'Horas': 0.0},\n",
       "  {'Año': 2007.0, 'Horas': 2.683333333333333},\n",
       "  {'Año': 2008.0, 'Horas': 40.88333333333333},\n",
       "  {'Año': 2009.0, 'Horas': 448.40000000000003},\n",
       "  {'Año': 2010.0, 'Horas': 322.43333333333334},\n",
       "  {'Año': 2011.0, 'Horas': 1004.7166666666667},\n",
       "  {'Año': 2012.0, 'Horas': 2408.3},\n",
       "  {'Año': 2013.0, 'Horas': 4221.866666666667},\n",
       "  {'Año': 2014.0, 'Horas': 3182.65},\n",
       "  {'Año': 2015.0, 'Horas': 10992.5},\n",
       "  {'Año': 2016.0, 'Horas': 13171.55},\n",
       "  {'Año': 2017.0, 'Horas': 549.1166666666667}]}"
      ]
     },
     "execution_count": 22,
     "metadata": {},
     "output_type": "execute_result"
    }
   ],
   "source": [
    "UserForGenre('Adventure')"
   ]
  },
  {
   "cell_type": "markdown",
   "metadata": {},
   "source": [
    "### def best_developer_year( año : int )"
   ]
  },
  {
   "cell_type": "markdown",
   "metadata": {},
   "source": [
    "Devuelve el top 3 de desarrolladores con juegos MÁS recomendados por usuarios para el año dado. (reviews.recommend = True y comentarios positivos) <br><br>\n",
    "Ejemplo de retorno: <br>\n",
    "[{\"Puesto 1\" : X}, {\"Puesto 2\" : Y},{\"Puesto 3\" : Z}]\n",
    "<br><br>"
   ]
  },
  {
   "cell_type": "code",
   "execution_count": 23,
   "metadata": {},
   "outputs": [],
   "source": [
    "def best_developer_year (anio):\n",
    "\n",
    "    # Importa el archivo\n",
    "    df_best_dev = pd.read_parquet('Archivos API/def_best_dev.parquet')\n",
    "        # Columnas:\n",
    "            # developer\n",
    "            # item_id\n",
    "            # release_year\n",
    "            # recommend\n",
    "            # sentiment_analysis\n",
    "\n",
    "    # Se crea un DataFrame con los registros que corresponden al año ingresado por parametro y que son recomendados\n",
    "    # y tienen un analisis de sentimiento positivo\n",
    "    df_best = df_best_dev[(df_best_dev['recommend'])&(df_best_dev['sentiment_analysis']==2)&(df_best_dev['release_year']==anio)]\n",
    "\n",
    "    # Se ordenan los developer segun su frecuencia en orden descendente y se toman los 3 primeros\n",
    "    p1 = df_best['developer'].value_counts().index[0]\n",
    "    tam = df_best['developer'].value_counts().size\n",
    "    if  tam > 1:\n",
    "        p2 = df_best['developer'].value_counts().index[1]\n",
    "        if tam > 2:\n",
    "            p3 = df_best['developer'].value_counts().index[2]\n",
    "        else:\n",
    "            p3 = None\n",
    "    else:\n",
    "        p2 = None\n",
    "        p3 = None\n",
    "    \n",
    "    return [{\"Puesto 1\":p1,\"Puesto 2\":p2,\"Puesto 3\":p3}] # Se devuelven los datos en el formato solicitado\n"
   ]
  },
  {
   "cell_type": "code",
   "execution_count": 24,
   "metadata": {},
   "outputs": [
    {
     "data": {
      "text/plain": [
       "[{'Puesto 1': 'Valve', 'Puesto 2': None, 'Puesto 3': None}]"
      ]
     },
     "execution_count": 24,
     "metadata": {},
     "output_type": "execute_result"
    }
   ],
   "source": [
    "best_developer_year(2000)"
   ]
  },
  {
   "cell_type": "code",
   "execution_count": 25,
   "metadata": {},
   "outputs": [
    {
     "data": {
      "text/plain": [
       "[{'Puesto 1': 'Valve',\n",
       "  'Puesto 2': 'Gearbox Software,Aspyr (Mac &amp; Linux)',\n",
       "  'Puesto 3': 'Daybreak Game Company'}]"
      ]
     },
     "execution_count": 25,
     "metadata": {},
     "output_type": "execute_result"
    }
   ],
   "source": [
    "best_developer_year(2012)"
   ]
  },
  {
   "cell_type": "markdown",
   "metadata": {},
   "source": [
    "### def developer_reviews_analysis( desarrolladora : str )"
   ]
  },
  {
   "cell_type": "markdown",
   "metadata": {},
   "source": [
    "Según el desarrollador, se devuelve un diccionario con el nombre del desarrollador como llave y una lista con la cantidad total de registros de reseñas de usuarios que se encuentren categorizados con un análisis de sentimiento como valor positivo o negativo. <br><br>\n",
    "Ejemplo de retorno: <br>\n",
    "{'Valve' : [Negative = 182, Positive = 278]}\n",
    "<br><br>"
   ]
  },
  {
   "cell_type": "code",
   "execution_count": 26,
   "metadata": {},
   "outputs": [],
   "source": [
    "def developer_reviews_analysis (desarrolladora):\n",
    "\n",
    "    # Importa el archivo\n",
    "    df_dev_rev = pd.read_parquet('Archivos API/def_dev_rev.parquet')\n",
    "        # Columnas:\n",
    "            # developer\n",
    "            # item_id\n",
    "            # sentiment_analysis\n",
    "\n",
    "    # Se crea un DataFrame que contiene solo los registros para la desarrolladora especificada\n",
    "    df_dev = df_dev_rev[df_dev_rev['developer']==desarrolladora]\n",
    "\n",
    "    #Se calculan directamente los valores solicitados y se devuelven en el formato solicitado\n",
    "    return {f\"{desarrolladora}\":[f'Negative = {df_dev[df_dev['sentiment_analysis']==0].shape[0]}',\n",
    "                                 f'Positive = {df_dev[df_dev['sentiment_analysis']==2].shape[0]}']}\n"
   ]
  },
  {
   "cell_type": "code",
   "execution_count": 27,
   "metadata": {},
   "outputs": [
    {
     "data": {
      "text/plain": [
       "{'Valve': ['Negative = 454', 'Positive = 2537']}"
      ]
     },
     "execution_count": 27,
     "metadata": {},
     "output_type": "execute_result"
    }
   ],
   "source": [
    "developer_reviews_analysis('Valve')"
   ]
  },
  {
   "cell_type": "code",
   "execution_count": 28,
   "metadata": {},
   "outputs": [
    {
     "data": {
      "text/plain": [
       "{'Daybreak Game Company': ['Negative = 16', 'Positive = 100']}"
      ]
     },
     "execution_count": 28,
     "metadata": {},
     "output_type": "execute_result"
    }
   ],
   "source": [
    "developer_reviews_analysis('Daybreak Game Company')"
   ]
  },
  {
   "cell_type": "code",
   "execution_count": null,
   "metadata": {},
   "outputs": [],
   "source": [
    "'''\n",
    "/developer/DL Softworks\n",
    "/userdata/76561198070565427\n",
    "/UserForGenre/Adventure\n",
    "/best_developer_year/2012\n",
    "/developer_reviews_analysis/Daybreak Game Company\n",
    "'''"
   ]
  }
 ],
 "metadata": {
  "kernelspec": {
   "display_name": "venv",
   "language": "python",
   "name": "python3"
  },
  "language_info": {
   "codemirror_mode": {
    "name": "ipython",
    "version": 3
   },
   "file_extension": ".py",
   "mimetype": "text/x-python",
   "name": "python",
   "nbconvert_exporter": "python",
   "pygments_lexer": "ipython3",
   "version": "3.12.4"
  }
 },
 "nbformat": 4,
 "nbformat_minor": 2
}
